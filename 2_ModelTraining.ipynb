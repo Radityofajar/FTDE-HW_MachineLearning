{
 "cells": [
  {
   "cell_type": "code",
   "execution_count": 1,
   "metadata": {},
   "outputs": [
    {
     "name": "stderr",
     "output_type": "stream",
     "text": [
      "Intel(R) Extension for Scikit-learn* enabled (https://github.com/intel/scikit-learn-intelex)\n"
     ]
    }
   ],
   "source": [
    "import pickle as pkl\n",
    "from sklearn.model_selection import KFold, cross_val_score\n",
    "from sklearn.metrics import make_scorer, accuracy_score, precision_score, recall_score, roc_auc_score, f1_score, r2_score\n",
    "from datetime import timedelta\n",
    "import time\n",
    "import csv\n",
    "from sklearnex import patch_sklearn\n",
    "patch_sklearn()\n",
    "\n",
    "X_train = pkl.load(open('CleanDataset/X_train.pkl', 'rb'))\n",
    "y_train = pkl.load(open('CleanDataset/y_train.pkl', 'rb'))\n",
    "\n",
    "def test_model(model, X_train=X_train, y_train=y_train):\n",
    "    cv = KFold(n_splits = 5, shuffle=True, random_state=1)\n",
    "    acc = make_scorer(accuracy_score)\n",
    "    prc = make_scorer(precision_score)\n",
    "    rec = make_scorer(recall_score)\n",
    "    auc = make_scorer(roc_auc_score)\n",
    "    f1 = make_scorer(f1_score)\n",
    "    r2 = make_scorer(r2_score)\n",
    "\n",
    "    acc_val_score = cross_val_score(model, X_train, y_train, cv=cv, scoring=acc)\n",
    "    prc_val_score = cross_val_score(model, X_train, y_train, cv=cv, scoring=prc)\n",
    "    rec_val_score = cross_val_score(model, X_train, y_train, cv=cv, scoring=rec)\n",
    "    auc_val_score = cross_val_score(model, X_train, y_train, cv=cv, scoring=auc)\n",
    "    f1_val_score = cross_val_score(model, X_train, y_train, cv=cv, scoring =f1)\n",
    "    r2_val_score = cross_val_score(model, X_train, y_train, cv=cv, scoring=r2)\n",
    "    score = [acc_val_score.mean(), prc_val_score.mean(), rec_val_score.mean(), auc_val_score.mean(),\\\n",
    "             f1_val_score.mean(), r2_val_score.mean()]\n",
    "    return score"
   ]
  },
  {
   "cell_type": "code",
   "execution_count": 5,
   "metadata": {},
   "outputs": [],
   "source": [
    "def insert_csv(model_name, result, duration):\n",
    "    msg = [{'Model':f'{model_name}','Training time': f\"{duration}\",'Accuracy': f\"{round(result[0],4)*100}\", \\\n",
    "    'Precision': f'{round(result[1],4)*100}', 'Recall': f'{round(result[2],4)*100}', 'AUC': f'{round(result[3],4)*100}',\\\n",
    "    'F1': f'{round(result[4],4)*100}', 'R2': f'{round(result[5],3)}'}]\n",
    "\n",
    "    with open('record_result.csv', 'a', newline='\\n') as csvfile:\n",
    "        fieldnames = ['Model', 'Training time', 'Accuracy', 'Precision', 'Recall', 'AUC', 'F1', 'R2']\n",
    "        writer = csv.DictWriter(csvfile, fieldnames=fieldnames)\n",
    "        writer.writerows(msg)"
   ]
  },
  {
   "cell_type": "code",
   "execution_count": 6,
   "metadata": {},
   "outputs": [
    {
     "data": {
      "text/plain": [
       "array([[ 0.89820178, -0.95407482,  1.68026382, ..., -1.55505799,\n",
       "         1.30543195,  0.16613223],\n",
       "       [ 0.89820178,  0.51860417,  1.68026382, ..., -1.55505799,\n",
       "         1.30543195,  0.16613223],\n",
       "       [ 0.89820178, -0.67356454, -0.59514463, ..., -1.55505799,\n",
       "        -1.34267342,  0.16613223],\n",
       "       ...,\n",
       "       [-1.11333558,  0.37834903, -0.59514463, ...,  0.64306283,\n",
       "         1.30543195,  0.16613223],\n",
       "       [-1.11333558, -0.18267154, -0.59514463, ...,  0.64306283,\n",
       "         0.42273016,  0.16613223],\n",
       "       [ 0.89820178,  0.79911446, -0.59514463, ...,  0.64306283,\n",
       "        -0.45997163,  0.16613223]])"
      ]
     },
     "execution_count": 6,
     "metadata": {},
     "output_type": "execute_result"
    }
   ],
   "source": [
    "X_train"
   ]
  },
  {
   "cell_type": "markdown",
   "metadata": {},
   "source": [
    "## Logistic Regression"
   ]
  },
  {
   "cell_type": "code",
   "execution_count": 7,
   "metadata": {},
   "outputs": [
    {
     "name": "stdout",
     "output_type": "stream",
     "text": [
      "[0.785310166911491, 0.7079471094544778, 0.9713226076254505, 0.7853085178538887, 0.8189806463566887, 0.14123209333058487]\n"
     ]
    }
   ],
   "source": [
    "from sklearn.linear_model import LogisticRegression as LogReg\n",
    "LR = LogReg()\n",
    "start = time.perf_counter()\n",
    "ResultLogReg = test_model(LR)\n",
    "print(ResultLogReg)\n",
    "duration = timedelta(seconds=time.perf_counter()-start)\n",
    "\n",
    "insert_csv('Logistic Regression', ResultLogReg, duration)"
   ]
  },
  {
   "cell_type": "markdown",
   "metadata": {},
   "source": [
    "## Random Forest"
   ]
  },
  {
   "cell_type": "code",
   "execution_count": 8,
   "metadata": {},
   "outputs": [
    {
     "name": "stdout",
     "output_type": "stream",
     "text": [
      "[0.8138169581819612, 0.7589651058281066, 0.9194204457666408, 0.8137347087817333, 0.8315932080242165, 0.25498742656910534]\n"
     ]
    }
   ],
   "source": [
    "from sklearn.ensemble import RandomForestClassifier\n",
    "clf = RandomForestClassifier(n_estimators=200)\n",
    "start = time.perf_counter()\n",
    "ResultRF = test_model(clf)\n",
    "print(ResultRF)\n",
    "duration = timedelta(seconds=time.perf_counter()-start)\n",
    "\n",
    "insert_csv('Random Forest', ResultRF, duration)"
   ]
  },
  {
   "cell_type": "markdown",
   "metadata": {},
   "source": [
    "## XGBoost"
   ]
  },
  {
   "cell_type": "code",
   "execution_count": 10,
   "metadata": {},
   "outputs": [
    {
     "name": "stderr",
     "output_type": "stream",
     "text": [
      "/home/wicom/.local/lib/python3.8/site-packages/xgboost/core.py:265: FutureWarning: Your system has an old version of glibc (< 2.28). We will stop supporting Linux distros with glibc older than 2.28 after **May 31, 2025**. Please upgrade to a recent Linux distro (with glibc 2.28+) to use future versions of XGBoost.\n",
      "Note: You have installed the 'manylinux2014' variant of XGBoost. Certain features such as GPU algorithms or federated learning are not available. To use these features, please upgrade to a recent Linux distro with glibc 2.28+, and install the 'manylinux_2_28' variant.\n",
      "  warnings.warn(\n"
     ]
    },
    {
     "name": "stdout",
     "output_type": "stream",
     "text": [
      "[0.806792628694731, 0.7477046281147857, 0.9260596729667171, 0.8067912501860949, 0.8273778065916881, 0.2271628025363727]\n"
     ]
    }
   ],
   "source": [
    "import xgboost\n",
    "xgb = xgboost.XGBClassifier()\n",
    "start = time.perf_counter()\n",
    "ResultXGB = test_model(xgb)\n",
    "print(ResultXGB)\n",
    "duration = timedelta(seconds=time.perf_counter()-start)\n",
    "\n",
    "insert_csv('XGBoost', ResultXGB, duration)"
   ]
  },
  {
   "cell_type": "markdown",
   "metadata": {},
   "source": [
    "## Support Vector Machine (SVM)"
   ]
  },
  {
   "cell_type": "code",
   "execution_count": 11,
   "metadata": {},
   "outputs": [
    {
     "name": "stdout",
     "output_type": "stream",
     "text": [
      "[0.7970128297157972, 0.7336723253787508, 0.9325439744342752, 0.7970117359820994, 0.8212388042982616, 0.1880432308521462]\n"
     ]
    }
   ],
   "source": [
    "from sklearn.svm import SVC\n",
    "svc = SVC()\n",
    "start = time.perf_counter()\n",
    "ResultSVM = test_model(svc)\n",
    "print(ResultSVM)\n",
    "duration = timedelta(seconds=time.perf_counter()-start)\n",
    "\n",
    "insert_csv('SVM', ResultSVM, duration)"
   ]
  },
  {
   "cell_type": "markdown",
   "metadata": {},
   "source": [
    "## Sklearn MLP"
   ]
  },
  {
   "cell_type": "code",
   "execution_count": 12,
   "metadata": {},
   "outputs": [
    {
     "name": "stdout",
     "output_type": "stream",
     "text": [
      "[0.7976031663727945, 0.7349271509886465, 0.928957378763792, 0.7973307467496629, 0.8205574868430914, 0.18962657400296262]\n"
     ]
    }
   ],
   "source": [
    "from sklearn.neural_network import MLPClassifier\n",
    "mlp = MLPClassifier(random_state=None, max_iter=75, activation='logistic', learning_rate='adaptive', early_stopping=True)\n",
    "start = time.perf_counter()\n",
    "ResultMLP = test_model(mlp)\n",
    "print(ResultMLP)\n",
    "duration = timedelta(seconds=time.perf_counter()-start)\n",
    "\n",
    "insert_csv('MLP', ResultMLP, duration)"
   ]
  },
  {
   "cell_type": "markdown",
   "metadata": {},
   "source": [
    "### Conclusion\n",
    "\n",
    "XGBoost memiliki performa dengan rata-rata yang terbaik. Oleh karena itu, kita akan menggunakan XGBoost untuk predict data."
   ]
  },
  {
   "cell_type": "code",
   "execution_count": 31,
   "metadata": {},
   "outputs": [],
   "source": [
    "X_test = pkl.load(open('CleanDataset/X_test.pkl', 'rb'))\n",
    "y_test = pkl.load(open('CleanDataset/y_test.pkl', 'rb'))\n",
    "y_test = y_test.values"
   ]
  },
  {
   "cell_type": "code",
   "execution_count": 32,
   "metadata": {},
   "outputs": [
    {
     "data": {
      "text/plain": [
       "array([[-1.11333558, -1.16445754,  1.68026382, ..., -1.55505799,\n",
       "         1.30543195,  0.16613223],\n",
       "       [-1.11333558, -0.11254397,  1.68026382, ..., -1.55505799,\n",
       "         0.42273016,  0.16613223],\n",
       "       [ 0.89820178,  0.51860417, -0.59514463, ...,  0.64306283,\n",
       "         0.42273016,  0.16613223],\n",
       "       ...,\n",
       "       [ 0.89820178,  0.72898689, -0.59514463, ...,  0.64306283,\n",
       "        -0.45997163,  0.16613223],\n",
       "       [-1.11333558, -1.16445754,  1.68026382, ..., -1.55505799,\n",
       "         0.42273016,  0.16613223],\n",
       "       [-1.11333558, -1.16445754, -0.59514463, ...,  0.64306283,\n",
       "         0.42273016,  0.16613223]])"
      ]
     },
     "execution_count": 32,
     "metadata": {},
     "output_type": "execute_result"
    }
   ],
   "source": [
    "X_test"
   ]
  },
  {
   "cell_type": "code",
   "execution_count": 33,
   "metadata": {},
   "outputs": [
    {
     "data": {
      "text/plain": [
       "array([0, 0, 0, ..., 0, 0, 0])"
      ]
     },
     "execution_count": 33,
     "metadata": {},
     "output_type": "execute_result"
    }
   ],
   "source": [
    "y_test"
   ]
  },
  {
   "cell_type": "code",
   "execution_count": 37,
   "metadata": {},
   "outputs": [
    {
     "data": {
      "text/html": [
       "<style>#sk-container-id-3 {color: black;}#sk-container-id-3 pre{padding: 0;}#sk-container-id-3 div.sk-toggleable {background-color: white;}#sk-container-id-3 label.sk-toggleable__label {cursor: pointer;display: block;width: 100%;margin-bottom: 0;padding: 0.3em;box-sizing: border-box;text-align: center;}#sk-container-id-3 label.sk-toggleable__label-arrow:before {content: \"▸\";float: left;margin-right: 0.25em;color: #696969;}#sk-container-id-3 label.sk-toggleable__label-arrow:hover:before {color: black;}#sk-container-id-3 div.sk-estimator:hover label.sk-toggleable__label-arrow:before {color: black;}#sk-container-id-3 div.sk-toggleable__content {max-height: 0;max-width: 0;overflow: hidden;text-align: left;background-color: #f0f8ff;}#sk-container-id-3 div.sk-toggleable__content pre {margin: 0.2em;color: black;border-radius: 0.25em;background-color: #f0f8ff;}#sk-container-id-3 input.sk-toggleable__control:checked~div.sk-toggleable__content {max-height: 200px;max-width: 100%;overflow: auto;}#sk-container-id-3 input.sk-toggleable__control:checked~label.sk-toggleable__label-arrow:before {content: \"▾\";}#sk-container-id-3 div.sk-estimator input.sk-toggleable__control:checked~label.sk-toggleable__label {background-color: #d4ebff;}#sk-container-id-3 div.sk-label input.sk-toggleable__control:checked~label.sk-toggleable__label {background-color: #d4ebff;}#sk-container-id-3 input.sk-hidden--visually {border: 0;clip: rect(1px 1px 1px 1px);clip: rect(1px, 1px, 1px, 1px);height: 1px;margin: -1px;overflow: hidden;padding: 0;position: absolute;width: 1px;}#sk-container-id-3 div.sk-estimator {font-family: monospace;background-color: #f0f8ff;border: 1px dotted black;border-radius: 0.25em;box-sizing: border-box;margin-bottom: 0.5em;}#sk-container-id-3 div.sk-estimator:hover {background-color: #d4ebff;}#sk-container-id-3 div.sk-parallel-item::after {content: \"\";width: 100%;border-bottom: 1px solid gray;flex-grow: 1;}#sk-container-id-3 div.sk-label:hover label.sk-toggleable__label {background-color: #d4ebff;}#sk-container-id-3 div.sk-serial::before {content: \"\";position: absolute;border-left: 1px solid gray;box-sizing: border-box;top: 0;bottom: 0;left: 50%;z-index: 0;}#sk-container-id-3 div.sk-serial {display: flex;flex-direction: column;align-items: center;background-color: white;padding-right: 0.2em;padding-left: 0.2em;position: relative;}#sk-container-id-3 div.sk-item {position: relative;z-index: 1;}#sk-container-id-3 div.sk-parallel {display: flex;align-items: stretch;justify-content: center;background-color: white;position: relative;}#sk-container-id-3 div.sk-item::before, #sk-container-id-3 div.sk-parallel-item::before {content: \"\";position: absolute;border-left: 1px solid gray;box-sizing: border-box;top: 0;bottom: 0;left: 50%;z-index: -1;}#sk-container-id-3 div.sk-parallel-item {display: flex;flex-direction: column;z-index: 1;position: relative;background-color: white;}#sk-container-id-3 div.sk-parallel-item:first-child::after {align-self: flex-end;width: 50%;}#sk-container-id-3 div.sk-parallel-item:last-child::after {align-self: flex-start;width: 50%;}#sk-container-id-3 div.sk-parallel-item:only-child::after {width: 0;}#sk-container-id-3 div.sk-dashed-wrapped {border: 1px dashed gray;margin: 0 0.4em 0.5em 0.4em;box-sizing: border-box;padding-bottom: 0.4em;background-color: white;}#sk-container-id-3 div.sk-label label {font-family: monospace;font-weight: bold;display: inline-block;line-height: 1.2em;}#sk-container-id-3 div.sk-label-container {text-align: center;}#sk-container-id-3 div.sk-container {/* jupyter's `normalize.less` sets `[hidden] { display: none; }` but bootstrap.min.css set `[hidden] { display: none !important; }` so we also need the `!important` here to be able to override the default hidden behavior on the sphinx rendered scikit-learn.org. See: https://github.com/scikit-learn/scikit-learn/issues/21755 */display: inline-block !important;position: relative;}#sk-container-id-3 div.sk-text-repr-fallback {display: none;}</style><div id=\"sk-container-id-3\" class=\"sk-top-container\"><div class=\"sk-text-repr-fallback\"><pre>XGBClassifier(base_score=None, booster=None, callbacks=None,\n",
       "              colsample_bylevel=None, colsample_bynode=None,\n",
       "              colsample_bytree=None, device=None, early_stopping_rounds=None,\n",
       "              enable_categorical=False, eval_metric=None, feature_types=None,\n",
       "              gamma=None, grow_policy=None, importance_type=None,\n",
       "              interaction_constraints=None, learning_rate=None, max_bin=None,\n",
       "              max_cat_threshold=None, max_cat_to_onehot=None,\n",
       "              max_delta_step=None, max_depth=None, max_leaves=None,\n",
       "              min_child_weight=None, missing=nan, monotone_constraints=None,\n",
       "              multi_strategy=None, n_estimators=None, n_jobs=None,\n",
       "              num_parallel_tree=None, random_state=None, ...)</pre><b>In a Jupyter environment, please rerun this cell to show the HTML representation or trust the notebook. <br />On GitHub, the HTML representation is unable to render, please try loading this page with nbviewer.org.</b></div><div class=\"sk-container\" hidden><div class=\"sk-item\"><div class=\"sk-estimator sk-toggleable\"><input class=\"sk-toggleable__control sk-hidden--visually\" id=\"sk-estimator-id-3\" type=\"checkbox\" checked><label for=\"sk-estimator-id-3\" class=\"sk-toggleable__label sk-toggleable__label-arrow\">XGBClassifier</label><div class=\"sk-toggleable__content\"><pre>XGBClassifier(base_score=None, booster=None, callbacks=None,\n",
       "              colsample_bylevel=None, colsample_bynode=None,\n",
       "              colsample_bytree=None, device=None, early_stopping_rounds=None,\n",
       "              enable_categorical=False, eval_metric=None, feature_types=None,\n",
       "              gamma=None, grow_policy=None, importance_type=None,\n",
       "              interaction_constraints=None, learning_rate=None, max_bin=None,\n",
       "              max_cat_threshold=None, max_cat_to_onehot=None,\n",
       "              max_delta_step=None, max_depth=None, max_leaves=None,\n",
       "              min_child_weight=None, missing=nan, monotone_constraints=None,\n",
       "              multi_strategy=None, n_estimators=None, n_jobs=None,\n",
       "              num_parallel_tree=None, random_state=None, ...)</pre></div></div></div></div></div>"
      ],
      "text/plain": [
       "XGBClassifier(base_score=None, booster=None, callbacks=None,\n",
       "              colsample_bylevel=None, colsample_bynode=None,\n",
       "              colsample_bytree=None, device=None, early_stopping_rounds=None,\n",
       "              enable_categorical=False, eval_metric=None, feature_types=None,\n",
       "              gamma=None, grow_policy=None, importance_type=None,\n",
       "              interaction_constraints=None, learning_rate=None, max_bin=None,\n",
       "              max_cat_threshold=None, max_cat_to_onehot=None,\n",
       "              max_delta_step=None, max_depth=None, max_leaves=None,\n",
       "              min_child_weight=None, missing=nan, monotone_constraints=None,\n",
       "              multi_strategy=None, n_estimators=None, n_jobs=None,\n",
       "              num_parallel_tree=None, random_state=None, ...)"
      ]
     },
     "execution_count": 37,
     "metadata": {},
     "output_type": "execute_result"
    }
   ],
   "source": [
    "xgb.fit(X_train, y_train)"
   ]
  },
  {
   "cell_type": "code",
   "execution_count": 41,
   "metadata": {},
   "outputs": [],
   "source": [
    "Result_train = xgb.predict(X_train)\n",
    "Result_test = xgb.predict(X_test)"
   ]
  },
  {
   "cell_type": "code",
   "execution_count": 45,
   "metadata": {},
   "outputs": [],
   "source": [
    "import seaborn as sns\n",
    "import matplotlib.pyplot as plt\n",
    "from sklearn.metrics import confusion_matrix"
   ]
  },
  {
   "cell_type": "code",
   "execution_count": 51,
   "metadata": {},
   "outputs": [
    {
     "name": "stdout",
     "output_type": "stream",
     "text": [
      "accuracy: 0.8090857285200971\n",
      "precision: 0.7500641873331474\n",
      "recall: 0.9270985111908084\n"
     ]
    },
    {
     "data": {
      "image/png": "[encoded data removed]",
      "text/plain": [
       "<Figure size 600x400 with 2 Axes>"
      ]
     },
     "metadata": {},
     "output_type": "display_data"
    }
   ],
   "source": [
    "print(\"accuracy: \" + str(accuracy_score(y_true=y_train, y_pred=Result_train)))\n",
    "print(\"precision: \" + str(precision_score(y_true=y_train, y_pred=Result_train)))\n",
    "print(\"recall: \" + str(recall_score(y_true=y_train, y_pred=Result_train)))\n",
    "\n",
    "cm = confusion_matrix(y_true=y_train, y_pred=Result_train)\n",
    "plt.figure(figsize=(6,4))\n",
    "sns.heatmap(cm, annot=True, fmt=\".0f\", cmap=\"Blues\", xticklabels=['Pred 0', 'Pred 1'], yticklabels=['True 0', 'True 1'])\n",
    "plt.show()"
   ]
  },
  {
   "cell_type": "code",
   "execution_count": 53,
   "metadata": {},
   "outputs": [
    {
     "name": "stdout",
     "output_type": "stream",
     "text": [
      "accuracy: 0.7153105531432886\n",
      "precision: 0.28511634506242906\n",
      "recall: 0.893508225878168\n"
     ]
    },
    {
     "data": {
      "image/png": "[encoded data removed]",
      "text/plain": [
       "<Figure size 600x400 with 2 Axes>"
      ]
     },
     "metadata": {},
     "output_type": "display_data"
    }
   ],
   "source": [
    "print(\"accuracy: \" + str(accuracy_score(y_true=y_test, y_pred=Result_test)))\n",
    "print(\"precision: \" + str(precision_score(y_true=y_test, y_pred=Result_test)))\n",
    "print(\"recall: \" + str(recall_score(y_true=y_test, y_pred=Result_test)))\n",
    "\n",
    "cm = confusion_matrix(y_true=y_test, y_pred=Result_test)\n",
    "plt.figure(figsize=(6,4))\n",
    "sns.heatmap(cm, annot=True, fmt=\".0f\", cmap=\"Blues\", xticklabels=['Pred 0', 'Pred 1'], yticklabels=['True 0', 'True 1'])\n",
    "plt.show()"
   ]
  },
  {
   "cell_type": "markdown",
   "metadata": {},
   "source": [
    "## Conclusion\n",
    "\n",
    "### 1. Accuracy yang masih tinggi\n",
    "**Accuracy** tetap cukup baik pada data testing, yang berarti model masih mampu memprediksi banyak contoh dengan benar. Namun **Accuracy** pada kasus ini tidak bisa menjadi metric utama karena seringkali menyesatkan jika dataset tidak seimbang (walaupun sudah kita SMOTE).\n",
    "\n",
    "### 2. Recall yang tetap tinggi\n",
    "**Recall** mengukur seberapa baik model menemukan semua data positif yang benar (***True Positives***). Ketika **Recall** tetap bagus, berarti model berhasil menemukan sebagian besar contoh positif dan model cenderung lebih befokus pada tidak melewatkan contoh positif (*Rendah False Negative*).\n",
    "\n",
    "### 3. Precision yang turun drastis\n",
    "Turunnya **Precesion** berarti model menghasilkan banyak ***false positive*** (contoh yang diprediksi sebagai positif tetapi sebenarnya negatif). Sehingga, prediksi positif dari model tidak bisa terlalu dipercaya karena sebagian besar dari prediksi itu salah.\n",
    "\n",
    "### Penyebab\n",
    "1. Kemungkinan besar karena overfitting pada data training.\n",
    "2. Perubahan distribusi data karena efek SMOTE. SMOTE yang digunakan untuk mengatasi imbalance data dengan membuat data synthetic dari data training, menghasilkan distribusi kelas atau fitur dalam data testing (real tanpa data synthetic) berbeda signifikan dari data training, model kemungkinan kesulitan menyesuaikan diri."
   ]
  },
  {
   "cell_type": "markdown",
   "metadata": {},
   "source": []
  }
 ],
 "metadata": {
  "kernelspec": {
   "display_name": "Python 3",
   "language": "python",
   "name": "python3"
  },
  "language_info": {
   "codemirror_mode": {
    "name": "ipython",
    "version": 3
   },
   "file_extension": ".py",
   "mimetype": "text/x-python",
   "name": "python",
   "nbconvert_exporter": "python",
   "pygments_lexer": "ipython3",
   "version": "3.8.10"
  }
 },
 "nbformat": 4,
 "nbformat_minor": 2
}
